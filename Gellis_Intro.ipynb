{
 "cells": [
  {
   "cell_type": "markdown",
   "id": "d0839230-d298-40d7-939d-88dff34885ff",
   "metadata": {},
   "source": [
    "# First JupyterLab Notebook: Intro"
   ]
  },
  {
   "cell_type": "markdown",
   "id": "7fa27d53-e6d0-4fa4-9a10-df1580d8f7f0",
   "metadata": {},
   "source": [
    "## Emma Gellis"
   ]
  },
  {
   "cell_type": "code",
   "execution_count": 24,
   "id": "fda658b2-6cd6-470d-a288-53f88efc5b1b",
   "metadata": {},
   "outputs": [
    {
     "name": "stdout",
     "output_type": "stream",
     "text": [
      "[30, 90, 99, 91, 71, 40, 57, 96, 66, 90, 100, 85, 62, 57, 56, 67, 76, 85, 74, 49, 70, 34, 71, 84, 75, 44, 35, 63, 43, 65, 63, 49, 42, 71, 100, 89, 30, 57, 35, 62]\n"
     ]
    }
   ],
   "source": [
    "import random \n",
    "random_numbers = [random.randint(30, 100) for _ in range(40)]\n",
    "print(random_numbers)"
   ]
  },
  {
   "cell_type": "code",
   "execution_count": 26,
   "id": "65c11f7a-24e5-4c41-ba47-77330c5d0094",
   "metadata": {},
   "outputs": [
    {
     "name": "stdout",
     "output_type": "stream",
     "text": [
      "30 30 34 35 35 40 42 43 44 49 49 56 57 57 57 62 62 63 63 65 66 67 70 71 71 71 74 75 76 84 85 85 89 90 90 91 96 99 100 100 "
     ]
    }
   ],
   "source": [
    "random_numbers.sort()\n",
    "for num in random_numbers:\n",
    "    print(num, end=\" \")"
   ]
  },
  {
   "cell_type": "markdown",
   "id": "c29bd5f8-70f7-4a80-a555-16380000663a",
   "metadata": {},
   "source": [
    "## The Sample Mean\n",
    "- A sample mean is calulated by adding all the integers in a sample and then dividing by the count of all integers. "
   ]
  },
  {
   "cell_type": "markdown",
   "id": "64a0edda-5216-4a4e-b710-36266f3a7ca4",
   "metadata": {},
   "source": [
    "$$ \\bar{x}= \\frac {\\sum x_i}{n} $$"
   ]
  },
  {
   "cell_type": "code",
   "execution_count": 32,
   "id": "89f9022b-378c-4bd4-933c-bf45863a9c98",
   "metadata": {},
   "outputs": [
    {
     "name": "stdout",
     "output_type": "stream",
     "text": [
      "Sample Mean:65.58\n"
     ]
    }
   ],
   "source": [
    "sample_mean=sum(random_numbers)/len(random_numbers)\n",
    "print(f'Sample Mean:{sample_mean:.2f}')"
   ]
  },
  {
   "cell_type": "markdown",
   "id": "9490562a-b529-49db-b621-a22b7f107b66",
   "metadata": {},
   "source": [
    "## The Median"
   ]
  },
  {
   "cell_type": "markdown",
   "id": "13e94ffd-4e23-46a5-8cc6-9b4bc54a9c24",
   "metadata": {},
   "source": [
    "https://www.investopedia.com/terms/m/median.asp#:~:text=Median%20refers%20to%20a%20metric,data%20set%20than%20the%20average. "
   ]
  },
  {
   "cell_type": "code",
   "execution_count": 9,
   "id": "c103dad0-06f1-4623-ad8f-08073f0852d7",
   "metadata": {},
   "outputs": [],
   "source": [
    "#For an even number of values, the median is calculates by calculating the mean of the two middle values. "
   ]
  },
  {
   "cell_type": "code",
   "execution_count": 34,
   "id": "d721b890-bfee-4030-8e88-42a7579b5c42",
   "metadata": {},
   "outputs": [
    {
     "name": "stdout",
     "output_type": "stream",
     "text": [
      "Sample Median: 65.5\n"
     ]
    }
   ],
   "source": [
    "n = len(random_numbers)\n",
    "if n % 2 == 0:\n",
    "    median1 = random_numbers[n // 2 - 1]\n",
    "    median2 = random_numbers[n // 2]\n",
    "    sample_median = (median1 + median2) / 2\n",
    "else:\n",
    "    sample_median = random_numbers[n // 2] \n",
    "print(f'Sample Median: {sample_median:.1f}')"
   ]
  },
  {
   "cell_type": "code",
   "execution_count": null,
   "id": "3a452b7c-3651-448b-8b38-991971580818",
   "metadata": {},
   "outputs": [],
   "source": []
  }
 ],
 "metadata": {
  "kernelspec": {
   "display_name": "Python [conda env:base] *",
   "language": "python",
   "name": "conda-base-py"
  },
  "language_info": {
   "codemirror_mode": {
    "name": "ipython",
    "version": 3
   },
   "file_extension": ".py",
   "mimetype": "text/x-python",
   "name": "python",
   "nbconvert_exporter": "python",
   "pygments_lexer": "ipython3",
   "version": "3.12.7"
  }
 },
 "nbformat": 4,
 "nbformat_minor": 5
}
